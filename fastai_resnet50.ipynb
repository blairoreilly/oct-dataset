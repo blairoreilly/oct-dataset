{
 "cells": [
  {
   "cell_type": "markdown",
   "metadata": {},
   "source": [
    "# Fast.ai RESNET-50"
   ]
  },
  {
   "cell_type": "code",
   "execution_count": 36,
   "metadata": {},
   "outputs": [],
   "source": [
    "# standard modules\n",
    "import os\n",
    "import numpy as np\n",
    "import matplotlib.pyplot as plt\n",
    "%matplotlib inline\n",
    "# pytorch modules\n",
    "import torch as torch\n",
    "from torch import nn\n",
    "from torch import conv2d, convolution\n",
    "import torchvision.models as models\n",
    "from torchvision.models import * \n",
    "# fast.ai modules\n",
    "from fastai import *\n",
    "from fastai.basics import *\n",
    "from fastai.script import *\n",
    "from fastai.vision import *\n",
    "from fastai.vision.models.wrn import wrn_22\n",
    "from fastai.distributed import *\n",
    "# GPU config\n",
    "torch.backends.cudnn.benchmark = True"
   ]
  },
  {
   "cell_type": "code",
   "execution_count": 24,
   "metadata": {},
   "outputs": [
    {
     "data": {
      "text/plain": [
       "device(type='cuda', index=0)"
      ]
     },
     "execution_count": 24,
     "metadata": {},
     "output_type": "execute_result"
    }
   ],
   "source": [
    "path = Path('data/')\n",
    "\n",
    "torch.device('cuda', 0)\n",
    "#data = ImageDataBunch.from_folder(path, size=224, valid_pct=20)"
   ]
  },
  {
   "cell_type": "code",
   "execution_count": 25,
   "metadata": {},
   "outputs": [
    {
     "name": "stdout",
     "output_type": "stream",
     "text": [
      "NORMAL\n",
      "CNV\n",
      "DME\n",
      "DRUSEN\n"
     ]
    }
   ],
   "source": [
    "for folder in ('NORMAL', 'CNV', 'DME', 'DRUSEN'):\n",
    "    print(folder)\n",
    "  #  verify_images(path/folder, delete=True, max_size=500)"
   ]
  },
  {
   "cell_type": "code",
   "execution_count": 27,
   "metadata": {},
   "outputs": [
    {
     "data": {
      "text/plain": [
       "['CNV', 'DME', 'DRUSEN', 'NORMAL', 'test']"
      ]
     },
     "execution_count": 27,
     "metadata": {},
     "output_type": "execute_result"
    }
   ],
   "source": [
    "data.classes"
   ]
  },
  {
   "cell_type": "code",
   "execution_count": 31,
   "metadata": {},
   "outputs": [
    {
     "data": {
      "text/plain": [
       "['.DS_Store', 'CNV', 'DME', 'DRUSEN', 'NORMAL']"
      ]
     },
     "execution_count": 31,
     "metadata": {},
     "output_type": "execute_result"
    }
   ],
   "source": [
    "os.listdir('data/validation')"
   ]
  },
  {
   "cell_type": "code",
   "execution_count": null,
   "metadata": {},
   "outputs": [
    {
     "name": "stderr",
     "output_type": "stream",
     "text": [
      "C:\\Users\\Blair\\Anaconda3\\envs\\oct\\lib\\site-packages\\fastai\\vision\\learner.py:106: UserWarning: `create_cnn` is deprecated and is now named `cnn_learner`.\n",
      "  warn(\"`create_cnn` is deprecated and is now named `cnn_learner`.\")\n",
      "Downloading: \"https://download.pytorch.org/models/resnet50-19c8e357.pth\" to C:\\Users\\Blair/.cache\\torch\\checkpoints\\resnet50-19c8e357.pth\n",
      "100%|█████████████████████████████████████████████████████████████████████████████| 97.8M/97.8M [00:04<00:00, 21.2MB/s]\n"
     ]
    },
    {
     "data": {
      "text/html": [
       "\n",
       "    <div>\n",
       "        <style>\n",
       "            /* Turns off some styling */\n",
       "            progress {\n",
       "                /* gets rid of default border in Firefox and Opera. */\n",
       "                border: none;\n",
       "                /* Needs to be in here for Safari polyfill so background images work as expected. */\n",
       "                background-size: auto;\n",
       "            }\n",
       "            .progress-bar-interrupted, .progress-bar-interrupted::-webkit-progress-bar {\n",
       "                background: #F44336;\n",
       "            }\n",
       "        </style>\n",
       "      <progress value='1' class='' max='5', style='width:300px; height:20px; vertical-align: middle;'></progress>\n",
       "      20.00% [1/5 16:32<1:06:10]\n",
       "    </div>\n",
       "    \n",
       "<table border=\"1\" class=\"dataframe\">\n",
       "  <thead>\n",
       "    <tr style=\"text-align: left;\">\n",
       "      <th>epoch</th>\n",
       "      <th>train_loss</th>\n",
       "      <th>valid_loss</th>\n",
       "      <th>accuracy</th>\n",
       "      <th>time</th>\n",
       "    </tr>\n",
       "  </thead>\n",
       "  <tbody>\n",
       "    <tr>\n",
       "      <td>0</td>\n",
       "      <td>0.293990</td>\n",
       "      <td>0.214711</td>\n",
       "      <td>0.928741</td>\n",
       "      <td>16:32</td>\n",
       "    </tr>\n",
       "  </tbody>\n",
       "</table><p>\n",
       "\n",
       "    <div>\n",
       "        <style>\n",
       "            /* Turns off some styling */\n",
       "            progress {\n",
       "                /* gets rid of default border in Firefox and Opera. */\n",
       "                border: none;\n",
       "                /* Needs to be in here for Safari polyfill so background images work as expected. */\n",
       "                background-size: auto;\n",
       "            }\n",
       "            .progress-bar-interrupted, .progress-bar-interrupted::-webkit-progress-bar {\n",
       "                background: #F44336;\n",
       "            }\n",
       "        </style>\n",
       "      <progress value='753' class='' max='2112', style='width:300px; height:20px; vertical-align: middle;'></progress>\n",
       "      35.65% [753/2112 05:15<09:29 0.2629]\n",
       "    </div>\n",
       "    "
      ],
      "text/plain": [
       "<IPython.core.display.HTML object>"
      ]
     },
     "metadata": {},
     "output_type": "display_data"
    }
   ],
   "source": [
    "data.path = pathlib.Path('.')\n",
    "\n",
    "# build train model 5 epoch\n",
    "learn = create_cnn(data,\n",
    "                   resnet50,\n",
    "                   pretrained = True,\n",
    "                   metrics = accuracy)\n",
    "learn.fit_one_cycle(5)\n",
    "\n",
    "# unfreeze and update learning rate\n",
    "learn.unfreeze()\n",
    "learn.lr_find()\n",
    "learn.recorder.plot()\n",
    "learn.fit_one_cycle(3,max_lr = slice(1e-6,3e-4))\n",
    "\n",
    "# interpretation, cm, loss\n",
    "interp = ClassificationInterpretation.from_learner(learn)\n",
    "interp.plot_top_losses(9)\n",
    "interp.plot_confusion_matrix()\n",
    "preds,y = learn.TTA()\n",
    "acc = accuracy(preds, y)\n",
    "print('The validation accuracy is {} %.'.format(acc * 100))\n",
    "\n",
    "def generateSubmission(learner):\n",
    "    submissions = pd.read_csv('../input/sample_submission.csv')\n",
    "    id_list = list(submissions.id)\n",
    "    preds,y = learner.TTA(ds_type=DatasetType.Test)\n",
    "    pred_list = list(preds[:,1])\n",
    "    pred_dict = dict((key, value.item()) for (key, value) in zip(learner.data.test_ds.items,pred_list))\n",
    "    pred_ordered = [pred_dict[Path('../input/test/' + id + '.tif')] for id in id_list]\n",
    "    submissions = pd.DataFrame({'id':id_list,'label':pred_ordered})\n",
    "    submissions.to_csv(\"submission_{}.csv\".format(pred_score),index = False)\n",
    "\n",
    "generateSubmission(learn)"
   ]
  },
  {
   "cell_type": "code",
   "execution_count": null,
   "metadata": {},
   "outputs": [],
   "source": []
  }
 ],
 "metadata": {
  "kernelspec": {
   "display_name": "Python 3",
   "language": "python",
   "name": "python3"
  },
  "language_info": {
   "codemirror_mode": {
    "name": "ipython",
    "version": 3
   },
   "file_extension": ".py",
   "mimetype": "text/x-python",
   "name": "python",
   "nbconvert_exporter": "python",
   "pygments_lexer": "ipython3",
   "version": "3.7.3"
  }
 },
 "nbformat": 4,
 "nbformat_minor": 4
}
